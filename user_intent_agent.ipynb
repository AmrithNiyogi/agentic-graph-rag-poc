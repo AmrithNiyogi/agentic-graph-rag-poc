{
 "cells": [
  {
   "cell_type": "code",
   "execution_count": 1,
   "id": "374244bd",
   "metadata": {},
   "outputs": [
    {
     "name": "stdout",
     "output_type": "stream",
     "text": [
      "Libraries imported.\n"
     ]
    }
   ],
   "source": [
    "# Import necessary libraries\n",
    "import os\n",
    "from google.adk.agents import Agent\n",
    "from google.adk.models.lite_llm import LiteLlm # For OpenAI support\n",
    "from google.adk.tools import ToolContext\n",
    "import json\n",
    "\n",
    "# Convenience libraries for working with Neo4j inside of Google ADK\n",
    "from neo4j_for_adk import graphdb, tool_success, tool_error\n",
    "\n",
    "import warnings\n",
    "# Ignore all warnings\n",
    "warnings.filterwarnings(\"ignore\")\n",
    "\n",
    "import logging\n",
    "logging.basicConfig(level=logging.CRITICAL)\n",
    "\n",
    "print(\"Libraries imported.\")"
   ]
  },
  {
   "cell_type": "code",
   "execution_count": null,
   "id": "d485150a",
   "metadata": {},
   "outputs": [
    {
     "name": "stdout",
     "output_type": "stream",
     "text": [
      "{\n",
      "  \"id\": \"chatcmpl-CA9V0SqlwvZVjOcSgiTgHVdJ137YE\",\n",
      "  \"created\": 1756535830,\n",
      "  \"model\": \"gpt-4o-2024-08-06\",\n",
      "  \"object\": \"chat.completion\",\n",
      "  \"system_fingerprint\": \"fp_80956533cb\",\n",
      "  \"choices\": [\n",
      "    {\n",
      "      \"finish_reason\": \"stop\",\n",
      "      \"index\": 0,\n",
      "      \"message\": {\n",
      "        \"content\": \"Yes, I'm ready! How can I assist you today?\",\n",
      "        \"role\": \"assistant\",\n",
      "        \"tool_calls\": null,\n",
      "        \"function_call\": null,\n",
      "        \"annotations\": []\n",
      "      },\n",
      "      \"provider_specific_fields\": {}\n",
      "    }\n",
      "  ],\n",
      "  \"usage\": {\n",
      "    \"completion_tokens\": 13,\n",
      "    \"prompt_tokens\": 27,\n",
      "    \"total_tokens\": 40,\n",
      "    \"completion_tokens_details\": {\n",
      "      \"accepted_prediction_tokens\": 0,\n",
      "      \"audio_tokens\": 0,\n",
      "      \"reasoning_tokens\": 0,\n",
      "      \"rejected_prediction_tokens\": 0,\n",
      "      \"text_tokens\": null\n",
      "    },\n",
      "    \"prompt_tokens_details\": {\n",
      "      \"audio_tokens\": 0,\n",
      "      \"cached_tokens\": 0,\n",
      "      \"text_tokens\": null,\n",
      "      \"image_tokens\": null\n",
      "    }\n",
      "  },\n",
      "  \"service_tier\": \"default\"\n",
      "}\n",
      "\n",
      "OpenAI is ready for use.\n"
     ]
    }
   ],
   "source": [
    "import os\n",
    "from dotenv import load_dotenv\n",
    "load_dotenv()\n",
    "\n",
    "# Defining Model Constants for easier use \n",
    "MODEL_GPT = \"openai/gpt-4o\"\n",
    "\n",
    "llm = LiteLlm(model=MODEL_GPT)\n",
    "\n",
    "# Test LLM with a direct call\n",
    "response = llm.llm_client.completion(\n",
    "    model=llm.model,\n",
    "    api_key=os.getenv(\"OPENAI_API_KEY\"),\n",
    "    messages=[{\"role\": \"user\", \"content\": \"Are you ready?\"}],\n",
    "    tools=[]\n",
    ")\n",
    "print(json.dumps(response.dict(), indent=2))\n",
    "\n",
    "print(\"\\nOpenAI is ready for use.\")"
   ]
  },
  {
   "cell_type": "markdown",
   "id": "ae0677b7",
   "metadata": {},
   "source": [
    "## User Intent Agent"
   ]
  },
  {
   "cell_type": "markdown",
   "id": "982e9aa5",
   "metadata": {},
   "source": [
    "###  Definition"
   ]
  },
  {
   "cell_type": "code",
   "execution_count": 3,
   "id": "511c54f0",
   "metadata": {},
   "outputs": [],
   "source": [
    "user_intent_agent_role_and_goal = \"\"\"\n",
    "    You are an expert at knowledge graph use cases. \n",
    "    Your primary goal is to help the user come up with a knowledge graph use case.\n",
    "\"\"\"\n",
    "\n",
    "user_intent_agent_conversational_hints = \"\"\"\n",
    "    If the user is unsure what to do, make some suggestions based on classic use cases like:\n",
    "    - social network involving friends, family, or professional relationships\n",
    "    - logistics network with suppliers, customers, and partners\n",
    "    - recommendation system with customers, products, and purchase patterns\n",
    "    - fraud detection over multiple accounts with suspicious patterns of transactions\n",
    "    - pop-culture graphs with movies, books, or music\n",
    "\"\"\"\n",
    "\n",
    "user_intent_agent_output_definition = \"\"\"\n",
    "    A user goal has two components:\n",
    "    - kind_of_graph: at most 3 words describing the graph, for example \"social network\" or \"USA freight logistics\"\n",
    "    - description: a few sentences about the intention of the graph, for example \"A dynamic routing and delivery system for cargo.\" or \"Analysis of product dependencies and supplier alternatives.\"\n",
    "\"\"\"\n",
    "\n",
    "user_intent_agent_chain_of_thought_directions = \"\"\"\n",
    "    Think carefully and collaborate with the user:\n",
    "    1. Understand the user's goal, which is a kind_of_graph with description\n",
    "    2. Ask clarifying questions as needed\n",
    "    3. When you think you understand their goal, use the 'set_perceived_user_goal' tool to record your perception\n",
    "    4. Present the perceived user goal to the user for confirmation\n",
    "    5. If the user agrees, use the 'approve_perceived_user_goal' tool to approve the user goal. This will save the goal in state under the 'approved_user_goal' key.\n",
    "\"\"\""
   ]
  },
  {
   "cell_type": "code",
   "execution_count": 4,
   "id": "97ec63ed",
   "metadata": {},
   "outputs": [
    {
     "name": "stdout",
     "output_type": "stream",
     "text": [
      "User Intent Agent instructions defined. \n",
      "\n",
      "    You are an expert at knowledge graph use cases. \n",
      "    Your primary goal is to help the user come up with a knowledge graph use case.\n",
      "\n",
      "\n",
      "    If the user is unsure what to do, make some suggestions based on classic use cases like:\n",
      "    - social network involving friends, family, or professional relationships\n",
      "    - logistics network with suppliers, customers, and partners\n",
      "    - recommendation system with customers, products, and purchase patterns\n",
      "    - fraud detection over multiple accounts with suspicious patterns of transactions\n",
      "    - pop-culture graphs with movies, books, or music\n",
      "\n",
      "\n",
      "    A user goal has two components:\n",
      "    - kind_of_graph: at most 3 words describing the graph, for example \"social network\" or \"USA freight logistics\"\n",
      "    - description: a few sentences about the intention of the graph, for example \"A dynamic routing and delivery system for cargo.\" or \"Analysis of product dependencies and supplier alternatives.\"\n",
      "\n",
      "\n",
      "    Think carefully and collaborate with the user:\n",
      "    1. Understand the user's goal, which is a kind_of_graph with description\n",
      "    2. Ask clarifying questions as needed\n",
      "    3. When you think you understand their goal, use the 'set_perceived_user_goal' tool to record your perception\n",
      "    4. Present the perceived user goal to the user for confirmation\n",
      "    5. If the user agrees, use the 'approve_perceived_user_goal' tool to approve the user goal. This will save the goal in state under the 'approved_user_goal' key.\n",
      "\n",
      "\n"
     ]
    }
   ],
   "source": [
    "user_intent_agent_instruction = f\"\"\"\n",
    "{user_intent_agent_role_and_goal}\n",
    "{user_intent_agent_conversational_hints}\n",
    "{user_intent_agent_output_definition}\n",
    "{user_intent_agent_chain_of_thought_directions}\n",
    "\"\"\"\n",
    "\n",
    "print(f\"User Intent Agent instructions defined. {user_intent_agent_instruction}\")"
   ]
  },
  {
   "cell_type": "markdown",
   "id": "f5af59a8",
   "metadata": {},
   "source": [
    "### Tool Definition"
   ]
  },
  {
   "cell_type": "code",
   "execution_count": 5,
   "id": "32b385e3",
   "metadata": {},
   "outputs": [],
   "source": [
    "# Tool: Set Perceived User Goal\n",
    "# to encourage collaboration with the user, the first tool only sets the perceived user goal\n",
    "\n",
    "PERCEIVED_USER_GOAL = \"perceived_user_goal\"\n",
    "\n",
    "def set_perceived_user_goal(kind_of_graph: str, graph_description:str, tool_context: ToolContext):\n",
    "    \"\"\"Sets the perceived user's goal, including the kind of graph and its description.\n",
    "    \n",
    "    Args:\n",
    "        kind_of_graph: 2-3 word definition of the kind of graph, for example \"recent US patents\"\n",
    "        graph_description: a single paragraph description of the graph, summarizing the user's intent\n",
    "    \"\"\"\n",
    "    user_goal_data = {\"kind_of_graph\": kind_of_graph, \"graph_description\": graph_description}\n",
    "    tool_context.state[PERCEIVED_USER_GOAL] = user_goal_data\n",
    "    return tool_success(PERCEIVED_USER_GOAL, user_goal_data)"
   ]
  },
  {
   "cell_type": "code",
   "execution_count": 6,
   "id": "c927af99",
   "metadata": {},
   "outputs": [],
   "source": [
    "# Tool: Approve the perceived user goal\n",
    "# approval from the user should trigger a call to this tool\n",
    "\n",
    "APPROVED_USER_GOAL = \"approved_user_goal\"\n",
    "\n",
    "def approve_perceived_user_goal(dummy: str = \"\", tool_context: ToolContext = None):\n",
    "    \"\"\"Upon approval from user, will record the perceived user goal as the approved user goal.\n",
    "\n",
    "    Only call this tool if the user has explicitly approved the perceived user goal.\n",
    "    \"\"\"\n",
    "    if tool_context is None:\n",
    "        return tool_error(\"Tool context is required.\")\n",
    "\n",
    "    if PERCEIVED_USER_GOAL not in tool_context.state:\n",
    "        return tool_error(\"perceived_user_goal not set. Set perceived user goal first, or ask clarifying questions if you are unsure.\")\n",
    "\n",
    "    tool_context.state[APPROVED_USER_GOAL] = tool_context.state[PERCEIVED_USER_GOAL]\n",
    "    \n",
    "    return tool_success(APPROVED_USER_GOAL, tool_context.state[APPROVED_USER_GOAL])"
   ]
  },
  {
   "cell_type": "code",
   "execution_count": null,
   "id": "3a46254e",
   "metadata": {},
   "outputs": [],
   "source": [
    "# Tool: Get the approved user goal\n",
    "def get_approved_user_goal(tool_context: ToolContext):\n",
    "    \"\"\"Returns the approved user goal from the tool context state, if it exists.\"\"\"\n",
    "    APPROVED_USER_GOAL = \"approved_user_goal\"\n",
    "    if APPROVED_USER_GOAL not in tool_context.state:\n",
    "        return tool_error(\"No approved user goal found. Approve a user goal first.\")\n",
    "    return tool_success(APPROVED_USER_GOAL, tool_context.state[APPROVED_USER_GOAL])\n"
   ]
  },
  {
   "cell_type": "code",
   "execution_count": null,
   "id": "b4a6eb0c",
   "metadata": {},
   "outputs": [],
   "source": []
  },
  {
   "cell_type": "code",
   "execution_count": 7,
   "id": "7a69643a",
   "metadata": {},
   "outputs": [],
   "source": [
    "user_intent_agent_tools = [set_perceived_user_goal, approve_perceived_user_goal]"
   ]
  },
  {
   "cell_type": "markdown",
   "id": "2b204ef1",
   "metadata": {},
   "source": [
    "### Agent Definition"
   ]
  },
  {
   "cell_type": "code",
   "execution_count": 8,
   "id": "62050ab4",
   "metadata": {},
   "outputs": [
    {
     "name": "stdout",
     "output_type": "stream",
     "text": [
      "Agent 'user_intent_agent_v1' created.\n"
     ]
    }
   ],
   "source": [
    "# Finally, construct the agent\n",
    "\n",
    "user_intent_agent = Agent(\n",
    "    name=\"user_intent_agent_v1\", # a unique, versioned name\n",
    "    model=llm, # defined earlier in a variable\n",
    "    description=\"Helps the user ideate on a knowledge graph use case.\", # used for delegation\n",
    "    instruction=user_intent_agent_instruction, # the complete instructions you composed earlier\n",
    "    tools=user_intent_agent_tools, # the list of tools\n",
    ")\n",
    "\n",
    "print(f\"Agent '{user_intent_agent.name}' created.\")"
   ]
  },
  {
   "cell_type": "code",
   "execution_count": 9,
   "id": "7e265c9b",
   "metadata": {},
   "outputs": [],
   "source": [
    "# use a helper to create an agent execution environment\n",
    "from helper import make_agent_caller\n",
    "\n",
    "# NOTE: if re-running the session, come back here to re-initialize the agent\n",
    "user_intent_caller = await make_agent_caller(user_intent_agent)"
   ]
  },
  {
   "cell_type": "code",
   "execution_count": 10,
   "id": "918ddfb3",
   "metadata": {},
   "outputs": [
    {
     "name": "stdout",
     "output_type": "stream",
     "text": [
      "Session Start: {}\n",
      "\n",
      ">>> User Query: I'd like a bill of materials graph (BOM graph) which includes all levels from suppliers to finished product, \n",
      "    which can support root-cause analysis.\n",
      "<<< Agent Response: To better understand your goal, could you provide a bit more information on the specific use cases or challenges you are looking to address with this Bill of Materials (BOM) graph? For instance, are you primarily focused on tracking supply chain disruptions, improving production efficiency, or maybe something else? This will help in framing the graph description accurately.\n",
      "\n",
      ">>> User Query: I'm concerned about possible manufacturing or supplier issues.\n",
      "<<< Agent Response: Here is the perceived goal for your Bill of Materials graph:\n",
      "\n",
      "**Kind of Graph:** Bill of Materials\n",
      "\n",
      "**Description:** A comprehensive Bill of Materials (BOM) graph that spans all levels from suppliers to finished products. The graph is designed to support root-cause analysis of potential manufacturing or supplier issues, helping identify and mitigate disruptions in the supply chain and improve production efficiency.\n",
      "\n",
      "Does this accurately capture what you have in mind?\n",
      "\n",
      ">>> User Query: Approve that goal.\n",
      "<<< Agent Response: Great! Your goal for the Bill of Materials graph has been approved and recorded. This graph will help in conducting a root-cause analysis for manufacturing or supplier issues, ensuring better management of the supply chain and production process. If you need further assistance or have questions on how to implement this, feel free to ask!\n"
     ]
    }
   ],
   "source": [
    "# Run the Initial Conversation\n",
    "\n",
    "session_start = await user_intent_caller.get_session()\n",
    "print(f\"Session Start: {session_start.state}\") # expect this to be empty\n",
    "\n",
    "# We need an async function to await for each conversation\n",
    "async def run_conversation():\n",
    "    # start things off by describing your goal\n",
    "    await user_intent_caller.call(\"\"\"I'd like a bill of materials graph (BOM graph) which includes all levels from suppliers to finished product, \n",
    "    which can support root-cause analysis.\"\"\") \n",
    "\n",
    "    if PERCEIVED_USER_GOAL not in session_start.state:\n",
    "        # the LLM may have asked a clarifying question. offer some more details\n",
    "        await user_intent_caller.call(\"\"\"I'm concerned about possible manufacturing or supplier issues.\"\"\")        \n",
    "\n",
    "    # Optimistically presume approval.\n",
    "    await user_intent_caller.call(\"Approve that goal.\", False)\n",
    "\n",
    "await run_conversation()\n",
    "\n",
    "session_end = await user_intent_caller.get_session()"
   ]
  }
 ],
 "metadata": {
  "kernelspec": {
   "display_name": "agentic-graph-rag",
   "language": "python",
   "name": "python3"
  },
  "language_info": {
   "codemirror_mode": {
    "name": "ipython",
    "version": 3
   },
   "file_extension": ".py",
   "mimetype": "text/x-python",
   "name": "python",
   "nbconvert_exporter": "python",
   "pygments_lexer": "ipython3",
   "version": "3.11.13"
  }
 },
 "nbformat": 4,
 "nbformat_minor": 5
}
