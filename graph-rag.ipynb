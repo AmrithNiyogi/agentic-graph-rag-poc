{
 "cells": [
  {
   "cell_type": "code",
   "execution_count": 1,
   "id": "886b2d9b",
   "metadata": {},
   "outputs": [
    {
     "name": "stdout",
     "output_type": "stream",
     "text": [
      "Libraries imported.\n"
     ]
    }
   ],
   "source": [
    "# Import necessary libraries\n",
    "import os\n",
    "from google.adk.agents import Agent\n",
    "from google.adk.models.lite_llm import LiteLlm # For OpenAI support\n",
    "import litellm\n",
    "from google.adk.sessions import InMemorySessionService\n",
    "from google.adk.runners import Runner\n",
    "from google.genai import types # For creating message Content/Parts\n",
    "from typing import Optional, Dict, Any\n",
    "import json\n",
    "from google.adk.tools.tool_context import ToolContext\n",
    "from neo4j_for_adk import graphdb\n",
    "\n",
    "import warnings\n",
    "warnings.filterwarnings(\"ignore\")\n",
    "\n",
    "import logging\n",
    "logging.basicConfig(level=logging.CRITICAL)\n",
    "\n",
    "print(\"Libraries imported.\")"
   ]
  },
  {
   "cell_type": "code",
   "execution_count": null,
   "id": "cdeb12b0",
   "metadata": {},
   "outputs": [
    {
     "name": "stdout",
     "output_type": "stream",
     "text": [
      "{\n",
      "  \"id\": \"chatcmpl-CA966kuogSPbTVwTt4gh37wQoYYY7\",\n",
      "  \"created\": 1756534286,\n",
      "  \"model\": \"gpt-4o-2024-08-06\",\n",
      "  \"object\": \"chat.completion\",\n",
      "  \"system_fingerprint\": \"fp_46bff0e0c8\",\n",
      "  \"choices\": [\n",
      "    {\n",
      "      \"finish_reason\": \"stop\",\n",
      "      \"index\": 0,\n",
      "      \"message\": {\n",
      "        \"content\": \"Yes, I'm ready! How can I assist you today?\",\n",
      "        \"role\": \"assistant\",\n",
      "        \"tool_calls\": null,\n",
      "        \"function_call\": null,\n",
      "        \"annotations\": []\n",
      "      },\n",
      "      \"provider_specific_fields\": {}\n",
      "    }\n",
      "  ],\n",
      "  \"usage\": {\n",
      "    \"completion_tokens\": 13,\n",
      "    \"prompt_tokens\": 27,\n",
      "    \"total_tokens\": 40,\n",
      "    \"completion_tokens_details\": {\n",
      "      \"accepted_prediction_tokens\": 0,\n",
      "      \"audio_tokens\": 0,\n",
      "      \"reasoning_tokens\": 0,\n",
      "      \"rejected_prediction_tokens\": 0,\n",
      "      \"text_tokens\": null\n",
      "    },\n",
      "    \"prompt_tokens_details\": {\n",
      "      \"audio_tokens\": 0,\n",
      "      \"cached_tokens\": 0,\n",
      "      \"text_tokens\": null,\n",
      "      \"image_tokens\": null\n",
      "    }\n",
      "  },\n",
      "  \"service_tier\": \"default\"\n",
      "}\n",
      "\n",
      "OpenAI is ready for use.\n"
     ]
    }
   ],
   "source": [
    "import os\n",
    "from dotenv import load_dotenv\n",
    "load_dotenv()\n",
    "\n",
    "# Defining Model Constants for easier use \n",
    "MODEL_GPT = \"openai/gpt-4o\"\n",
    "\n",
    "llm = LiteLlm(model=MODEL_GPT)\n",
    "\n",
    "# Test LLM with a direct call\n",
    "response = llm.llm_client.completion(\n",
    "    model=llm.model,\n",
    "    api_key=os.getenv(\"OPENAI_API_KEY\"),\n",
    "    messages=[{\"role\": \"user\", \"content\": \"Are you ready?\"}],\n",
    "    tools=[]\n",
    ")\n",
    "print(json.dumps(response.dict(), indent=2))\n",
    "\n",
    "print(\"\\nOpenAI is ready for use.\")"
   ]
  },
  {
   "cell_type": "markdown",
   "id": "00dec94b",
   "metadata": {},
   "source": [
    "<img src=\"send_query_expln.png\" alt=\"diagram of the send_query method from the graphdb module showing success or failure response to a query\" width=400>  "
   ]
  },
  {
   "cell_type": "code",
   "execution_count": 3,
   "id": "565438f7",
   "metadata": {},
   "outputs": [
    {
     "name": "stdout",
     "output_type": "stream",
     "text": [
      "{'status': 'success', 'query_result': [{'message': 'Neo4j is Ready!'}]}\n"
     ]
    }
   ],
   "source": [
    "# Sending a simple query to the database\n",
    "neo4j_is_ready = graphdb.send_query(\"RETURN 'Neo4j is Ready!' as message\")\n",
    "\n",
    "print(neo4j_is_ready)"
   ]
  },
  {
   "cell_type": "markdown",
   "id": "4d4a51c7",
   "metadata": {},
   "source": [
    "- An `Agent` in Google ADK orchestrates the interaction between the user, the LLM, and the available tools\n",
    "\n",
    "- key parameters:\n",
    "    * `name`: A unique identifier for this agent (e.g., \"friendly_cypher_agent\\_v1\").  \n",
    "    * `model`: Specifies which LLM to use. you'll use the `llm` variable we defined above.  \n",
    "    * `description`: A summary of the agent's overall purpose. This is like public documentation that helps other agents decide when to delegate tasks to *this* agent.  \n",
    "    * `instruction`: Detailed guidance given to the LLM on how this agent should behave, its persona, goals, and specifically *how and when* to utilize its assigned `tools`.  \n",
    "    * `tools`: A list containing the actual Python tool functions the agent is allowed to use (e.g., `[say_hello]`).\n",
    "\n",
    "**Best Practice:** \n",
    "- Choose descriptive `name` and `description` values. These are used internally by ADK and are vital for features like automatic delegation (covered later)."
   ]
  },
  {
   "cell_type": "code",
   "execution_count": 4,
   "id": "e123aee7",
   "metadata": {},
   "outputs": [
    {
     "name": "stdout",
     "output_type": "stream",
     "text": [
      "{'status': 'success', 'query_result': [{'reply': 'Hello to you, Amrith'}]}\n",
      "{'status': 'success', 'query_result': [{'reply': \"Hello to you, RETURN 'injection attack avoided'\"}]}\n"
     ]
    }
   ],
   "source": [
    "# Define a basic tool -- send a parameterized cypher query\n",
    "def say_hello(person_name: str) -> dict:\n",
    "    \"\"\"Formats a welcome message to a named person. \n",
    "\n",
    "    Args:\n",
    "        person_name (str): the name of the person saying hello\n",
    "\n",
    "    Returns:\n",
    "        dict: A dictionary containing the results of the query.\n",
    "              Includes a 'status' key ('success' or 'error').\n",
    "              If 'success', includes a 'query_result' key with an array of result rows.\n",
    "              If 'error', includes an 'error_message' key.\n",
    "    \"\"\"\n",
    "    return graphdb.send_query(\"RETURN 'Hello to you, ' + $person_name AS reply\",\n",
    "    {\n",
    "        \"person_name\": person_name\n",
    "    })\n",
    "print(say_hello(\"Amrith\"))\n",
    "print(say_hello(\"RETURN 'injection attack avoided'\"))"
   ]
  },
  {
   "cell_type": "code",
   "execution_count": 5,
   "id": "7f64321d",
   "metadata": {},
   "outputs": [
    {
     "name": "stdout",
     "output_type": "stream",
     "text": [
      "{'status': 'success', 'query_result': [{'farewell': 'Goodbye from Cypher!'}]}\n"
     ]
    }
   ],
   "source": [
    "def say_goodbye(dummy: str = \"\") -> dict:\n",
    "    \"\"\"Provides a simple farewell message to conclude the conversation.\"\"\"\n",
    "    return graphdb.send_query(\"RETURN 'Goodbye from Cypher!' as farewell\")\n",
    "\n",
    "print(say_goodbye())"
   ]
  },
  {
   "cell_type": "code",
   "execution_count": 6,
   "id": "422b58ca",
   "metadata": {},
   "outputs": [],
   "source": [
    "def add(x: float, y: float) -> dict:\n",
    "    \"\"\"Add two numbers.\"\"\"\n",
    "    return {\"result\": x + y}\n",
    "\n",
    "def subtract(x: float, y: float) -> dict:\n",
    "    \"\"\"Subtract two numbers.\"\"\"\n",
    "    return {\"result\": x - y}\n",
    "\n",
    "def multiply(x: float, y: float) -> dict:\n",
    "    \"\"\"Multiply two numbers.\"\"\"\n",
    "    return {\"result\": x * y}\n",
    "\n",
    "def divide(x: float, y: float) -> dict:\n",
    "    \"\"\"Divide two numbers.\"\"\"\n",
    "    if y == 0:\n",
    "        return {\"error\": \"Division by zero\"}\n",
    "    return {\"result\": x / y}"
   ]
  },
  {
   "cell_type": "code",
   "execution_count": 7,
   "id": "ec9eac9e",
   "metadata": {},
   "outputs": [
    {
     "name": "stdout",
     "output_type": "stream",
     "text": [
      "Agent 'hello_agent_v1' created.\n"
     ]
    }
   ],
   "source": [
    "# Define the Cypher Agent\n",
    "hello_agent = Agent(\n",
    "    name=\"hello_agent_v1\",\n",
    "    model=llm, # defined earlier in a variable\n",
    "    description=\"Has friendly chats with a user.\",\n",
    "    instruction=\"\"\"You are a helpful assistant, chatting with a user. \n",
    "                Be polite and friendly, introducing yourself and asking who the user is. \n",
    "\n",
    "                If the user provides their name, use the 'say_hello' tool to get a custom greeting.\n",
    "                If the tool returns an error, inform the user politely. \n",
    "                If the tool is successful, present the reply.\n",
    "                \"\"\",\n",
    "    tools=[say_hello], # Pass the function directly\n",
    ")\n",
    "\n",
    "print(f\"Agent '{hello_agent.name}' created.\")"
   ]
  },
  {
   "cell_type": "markdown",
   "id": "6d7b51a2",
   "metadata": {},
   "source": [
    "<img src=\"event_loop_3.png\"  alt=\"diagram of Agent Development Kit runtime showing the Runner component handling an Event Loop with Services for the User\" width=400> "
   ]
  },
  {
   "cell_type": "markdown",
   "id": "9c01fab6",
   "metadata": {},
   "source": [
    "* `SessionService`: Responsible for managing conversation history and state for different users and sessions. The `InMemorySessionService` is a simple implementation that stores everything in memory, suitable for testing and simple applications. It keeps track of the messages exchanged.  \n",
    "* `Runner`: The engine that orchestrates the interaction flow. It takes user input, routes it to the appropriate agent, manages calls to the LLM and tools based on the agent's logic, handles session updates via the `SessionService`, and yields events representing the progress of the interaction."
   ]
  },
  {
   "cell_type": "code",
   "execution_count": 8,
   "id": "d56795b7",
   "metadata": {},
   "outputs": [
    {
     "name": "stdout",
     "output_type": "stream",
     "text": [
      "Runner for agent 'hello_agent_v1' initialized.\n",
      "App Name: hello_agent_v1_app\n",
      "User ID: Has friendly chats with a user.\n",
      "Input Schema: None\n",
      "Tools: [<function say_hello at 0x7761a7931e40>]\n",
      "Model: model='openai/gpt-4o' llm_client=<google.adk.models.lite_llm.LiteLLMClient object at 0x77619fd73490>\n",
      "Model Config: {'arbitrary_types_allowed': True, 'extra': 'forbid'}\n",
      "Schema: <bound method BaseModel.schema of <class 'google.adk.agents.llm_agent.LlmAgent'>>\n",
      "Sub Agents: []\n",
      "Parent Agent: None\n",
      "Agent Instruction: You are a helpful assistant, chatting with a user. \n",
      "                Be polite and friendly, introducing yourself and asking who the user is. \n",
      "\n",
      "                If the user provides their name, use the 'say_hello' tool to get a custom greeting.\n",
      "                If the tool returns an error, inform the user politely. \n",
      "                If the tool is successful, present the reply.\n",
      "                \n"
     ]
    }
   ],
   "source": [
    "app_name = hello_agent.name + \"_app\"\n",
    "user_id = hello_agent.name + \"_user\"\n",
    "session_id = hello_agent.name + \"_session_01\"\n",
    "    \n",
    "# Initializing a session service and a session\n",
    "session_service = InMemorySessionService()\n",
    "await session_service.create_session(\n",
    "    app_name=app_name,\n",
    "    user_id=user_id,\n",
    "    session_id=session_id\n",
    ")\n",
    "    \n",
    "runner = Runner(\n",
    "    agent=hello_agent,\n",
    "    app_name=app_name,\n",
    "    session_service=session_service\n",
    ")\n",
    "\n",
    "print(f\"Runner for agent '{runner.agent.name}' initialized.\")\n",
    "print(f\"App Name: {runner.app_name}\")\n",
    "print(f\"User ID: {runner.agent.description}\")\n",
    "print(f\"Input Schema: {runner.agent.input_schema}\")\n",
    "print(f\"Tools: {runner.agent.tools}\")\n",
    "print(f\"Model: {runner.agent.model}\")\n",
    "print(f\"Model Config: {runner.agent.model_config}\")\n",
    "print(f\"Schema: {runner.agent.schema}\")\n",
    "print(f\"Sub Agents: {runner.agent.sub_agents}\")\n",
    "print(f\"Parent Agent: {runner.agent.parent_agent}\")\n",
    "print(f\"Agent Instruction: {runner.agent.instruction}\")\n"
   ]
  },
  {
   "cell_type": "code",
   "execution_count": 9,
   "id": "15c0b7eb",
   "metadata": {},
   "outputs": [
    {
     "name": "stdout",
     "output_type": "stream",
     "text": [
      "\n",
      ">>> User Message: Hello, I'm Amrith\n",
      "  [Event] Author: hello_agent_v1, Type: Event, Final: False, Content: parts=[Part(\n",
      "  function_call=FunctionCall(\n",
      "    args={\n",
      "      'person_name': 'Amrith'\n",
      "    },\n",
      "    id='call_cPuAXSnEmpxnkianQXwQUMEm',\n",
      "    name='say_hello'\n",
      "  )\n",
      ")] role='model'\n",
      "  [Event] Author: hello_agent_v1, Type: Event, Final: False, Content: parts=[Part(\n",
      "  function_response=FunctionResponse(\n",
      "    id='call_cPuAXSnEmpxnkianQXwQUMEm',\n",
      "    name='say_hello',\n",
      "    response={\n",
      "      'query_result': [\n",
      "        {\n",
      "          'reply': 'Hello to you, Amrith'\n",
      "        },\n",
      "      ],\n",
      "      'status': 'success'\n",
      "    }\n",
      "  )\n",
      ")] role='user'\n",
      "  [Event] Author: hello_agent_v1, Type: Event, Final: True, Content: parts=[Part(\n",
      "  text=\"Hello to you, Amrith! It's great to meet you. How can I assist you today?\"\n",
      ")] role='model'\n",
      "<<< Agent Response: Hello to you, Amrith! It's great to meet you. How can I assist you today?\n"
     ]
    }
   ],
   "source": [
    "user_message = \"Hello, I'm Amrith\"\n",
    "print(f\"\\n>>> User Message: {user_message}\")\n",
    "\n",
    "content = types.Content(role='user', parts=[types.Part(text=user_message)])\n",
    "\n",
    "final_response_text = \"Agent did not produce a final response.\" # Default will be replaced if the agent produces a final response.\n",
    "\n",
    "verbose = True\n",
    "async for event in runner.run_async(user_id=user_id, session_id=session_id, new_message=content):\n",
    "    if verbose:\n",
    "        print(f\"  [Event] Author: {event.author}, Type: {type(event).__name__}, Final: {event.is_final_response()}, Content: {event.content}\")\n",
    "    \n",
    "    # Key Concept: is_final_response() marks the concluding message for the turn.\n",
    "    if event.is_final_response():\n",
    "        if event.content and event.content.parts:\n",
    "            final_response_text = event.content.parts[0].text # Assuming text response in the first part\n",
    "        elif event.actions and event.actions.escalate: # Handle potential errors/escalations\n",
    "            final_response_text = f\"Agent escalated: {event.error_message or 'No specific message.'}\"\n",
    "        break # Stop processing events once the final response is found\n",
    "\n",
    "print(f\"<<< Agent Response: {final_response_text}\")"
   ]
  },
  {
   "cell_type": "code",
   "execution_count": 10,
   "id": "a52c8854",
   "metadata": {},
   "outputs": [],
   "source": [
    "class AgentCaller:\n",
    "    \"\"\"A simple wrapper class for interacting with an ADK agent.\"\"\"\n",
    "    \n",
    "    def __init__(self, agent: Agent, runner: Runner, \n",
    "                 user_id: str, session_id: str):\n",
    "        \"\"\"Initialize the AgentCaller with required components.\"\"\"\n",
    "        self.agent = agent\n",
    "        self.runner = runner\n",
    "        self.user_id = user_id\n",
    "        self.session_id = session_id\n",
    "\n",
    "\n",
    "    def get_session(self):\n",
    "        return self.runner.session_service.get_session(app_name=self.runner.app_name, user_id=self.user_id, session_id=self.session_id)\n",
    "\n",
    "    \n",
    "    async def call(self, user_message: str, verbose: bool = False):\n",
    "        \"\"\"Call the agent with a query and return the response.\"\"\"\n",
    "        print(f\"\\n>>> User Message: {user_message}\")\n",
    "\n",
    "        # Prepare the user's message in ADK format\n",
    "        content = types.Content(role='user', parts=[types.Part(text=user_message)])\n",
    "\n",
    "        final_response_text = \"Agent did not produce a final response.\" \n",
    "        \n",
    "        verbose = True\n",
    "        \n",
    "        # Key Concept: run_async executes the agent logic and yields Events.\n",
    "        # We iterate through events to find the final answer.\n",
    "        async for event in self.runner.run_async(user_id=self.user_id, session_id=self.session_id, new_message=content):\n",
    "            # You can uncomment the line below to see *all* events during execution\n",
    "            if verbose:\n",
    "                print(f\"  [Event] Author: {event.author}, Type: {type(event).__name__}, Final: {event.is_final_response()}, Content: {event.content}\")\n",
    "\n",
    "            # Key Concept: is_final_response() marks the concluding message for the turn.\n",
    "            if event.is_final_response():\n",
    "                if event.content and event.content.parts:\n",
    "                    # Assuming text response in the first part\n",
    "                    final_response_text = event.content.parts[0].text\n",
    "                elif event.actions and event.actions.escalate: # Handle potential errors/escalations\n",
    "                    final_response_text = f\"Agent escalated: {event.error_message or 'No specific message.'}\"\n",
    "                break # Stop processing events once the final response is found\n",
    "\n",
    "        print(f\"<<< Agent Response: {final_response_text}\")\n",
    "        return final_response_text\n"
   ]
  },
  {
   "cell_type": "code",
   "execution_count": 11,
   "id": "b84d333f",
   "metadata": {},
   "outputs": [],
   "source": [
    "async def make_agent_caller(agent: Agent, initial_state: Optional[Dict[str, Any]] = {}) -> AgentCaller:\n",
    "    \"\"\"Create and return an AgentCaller instance for the given agent.\"\"\"\n",
    "    app_name = agent.name + \"_app\"\n",
    "    user_id = agent.name + \"_user\"\n",
    "    session_id = agent.name + \"_session_01\"\n",
    "    \n",
    "    # Initialize a session service and a session\n",
    "    session_service = InMemorySessionService()\n",
    "    await session_service.create_session(\n",
    "        app_name=app_name,\n",
    "        user_id=user_id,\n",
    "        session_id=session_id,\n",
    "        state=initial_state\n",
    "    )\n",
    "    \n",
    "    runner = Runner(\n",
    "        agent=agent,\n",
    "        app_name=app_name,\n",
    "        session_service=session_service\n",
    "    )\n",
    "    \n",
    "    return AgentCaller(agent, runner, user_id, session_id)\n"
   ]
  },
  {
   "cell_type": "code",
   "execution_count": 12,
   "id": "a9f8b860",
   "metadata": {},
   "outputs": [
    {
     "name": "stdout",
     "output_type": "stream",
     "text": [
      "\n",
      ">>> User Message: Hello I'm Amrith\n",
      "  [Event] Author: hello_agent_v1, Type: Event, Final: False, Content: parts=[Part(\n",
      "  function_call=FunctionCall(\n",
      "    args={\n",
      "      'person_name': 'Amrith'\n",
      "    },\n",
      "    id='call_qcnmk8soc7nPCSJGUGJoo55d',\n",
      "    name='say_hello'\n",
      "  )\n",
      ")] role='model'\n",
      "  [Event] Author: hello_agent_v1, Type: Event, Final: False, Content: parts=[Part(\n",
      "  function_response=FunctionResponse(\n",
      "    id='call_qcnmk8soc7nPCSJGUGJoo55d',\n",
      "    name='say_hello',\n",
      "    response={\n",
      "      'query_result': [\n",
      "        {\n",
      "          'reply': 'Hello to you, Amrith'\n",
      "        },\n",
      "      ],\n",
      "      'status': 'success'\n",
      "    }\n",
      "  )\n",
      ")] role='user'\n",
      "  [Event] Author: hello_agent_v1, Type: Event, Final: True, Content: parts=[Part(\n",
      "  text='Hello to you, Amrith! How can I assist you today?'\n",
      ")] role='model'\n",
      "<<< Agent Response: Hello to you, Amrith! How can I assist you today?\n",
      "\n",
      ">>> User Message: I am excited\n",
      "  [Event] Author: hello_agent_v1, Type: Event, Final: True, Content: parts=[Part(\n",
      "  text=\"That's wonderful, Amrith! What's got you feeling excited today?\"\n",
      ")] role='model'\n",
      "<<< Agent Response: That's wonderful, Amrith! What's got you feeling excited today?\n",
      "\n",
      ">>> User Message: Multiply 20 * 10\n",
      "  [Event] Author: hello_agent_v1, Type: Event, Final: True, Content: parts=[Part(\n",
      "  text='The result of multiplying 20 by 10 is 200.'\n",
      ")] role='model'\n",
      "<<< Agent Response: The result of multiplying 20 by 10 is 200.\n"
     ]
    }
   ],
   "source": [
    "hello_agent_caller = await make_agent_caller(hello_agent)\n",
    "\n",
    "async def run_conversation():\n",
    "    await hello_agent_caller.call(\"Hello I'm Amrith\")\n",
    "\n",
    "    await hello_agent_caller.call(\"I am excited\")\n",
    "    \n",
    "    await hello_agent_caller.call(\"Multiply 20 * 10\")\n",
    "\n",
    "await run_conversation()"
   ]
  },
  {
   "cell_type": "code",
   "execution_count": 13,
   "id": "afb6ab19",
   "metadata": {},
   "outputs": [
    {
     "name": "stdout",
     "output_type": "stream",
     "text": [
      "✅ Agent 'greeting_subagent_v1' created.\n",
      "✅ Agent 'farewell_subagent_v1' created.\n",
      "✅ Agent 'math_subagent_v1' created.\n"
     ]
    }
   ],
   "source": [
    "greeting_subagent = Agent(\n",
    "    model=llm,\n",
    "    name=\"greeting_subagent_v1\",\n",
    "    instruction=\"You are the Greeting Agent. Your ONLY task is to provide a friendly greeting to the user. \"\n",
    "                \"Use the 'say_hello' tool to generate the greeting. \"\n",
    "                \"If the user provides their name, make sure to pass it to the tool. \"\n",
    "                \"Do not engage in any other conversation or tasks.\",\n",
    "    description=\"Handles simple greetings and hellos using the 'say_hello' tool.\",\n",
    "    tools=[say_hello]\n",
    ")\n",
    "print(f\"✅ Agent '{greeting_subagent.name}' created.\")\n",
    "\n",
    "\n",
    "farewell_subagent = Agent(\n",
    "    model=llm,\n",
    "    name=\"farewell_subagent_v1\",\n",
    "    instruction=\"You are the Farewell Agent. Your ONLY task is to provide a polite goodbye message. \"\n",
    "                \"Use the 'say_goodbye' tool when the user indicates they are leaving or ending the conversation \"\n",
    "                \"(e.g., using words like 'bye', 'goodbye', 'thanks bye', 'see you'). \"\n",
    "                \"Do not perform any other actions.\",\n",
    "    description=\"Handles simple farewells and goodbyes using the 'say_goodbye' tool.\", \n",
    "    tools=[say_goodbye],\n",
    ")\n",
    "print(f\"✅ Agent '{farewell_subagent.name}' created.\")\n",
    "\n",
    "math_subagent = Agent(\n",
    "    model=llm,\n",
    "    name=\"math_subagent_v1\",\n",
    "    instruction=\"You are the Math Agent. Your ONLY task is to perform basic arithmetic operations. \"\n",
    "                \"Use the 'calculator' tool to perform calculations. \"\n",
    "                \"If the user provides numbers and an operation, make sure to pass them to the tool. \"\n",
    "                \"Do not engage in any other conversation or tasks.\",\n",
    "    description=\"Handles simple arithmetic operations using the 'calculator' tool.\",\n",
    "    tools=[add, subtract, multiply, divide],\n",
    ")\n",
    "print(f\"✅ Agent '{math_subagent.name}' created.\")\n"
   ]
  },
  {
   "cell_type": "code",
   "execution_count": 14,
   "id": "55bcb9a6",
   "metadata": {},
   "outputs": [
    {
     "name": "stdout",
     "output_type": "stream",
     "text": [
      "✅ Root Agent 'friendly_agent_team_v1' created with sub-agents: ['greeting_subagent_v1', 'farewell_subagent_v1', 'math_subagent_v1'].\n"
     ]
    }
   ],
   "source": [
    "root_agent = Agent(\n",
    "    name=\"friendly_agent_team_v1\", \n",
    "    model=llm,\n",
    "    description=\"The main coordinator agent. Delegates greetings/farewells to specialists.\",\n",
    "    instruction=\"\"\"You are the main Agent coordinating a team. Your primary responsibility is to be friendly.\n",
    " \n",
    "                You have specialized sub-agents: \n",
    "                1. 'greeting_agent': Handles simple greetings like 'Hi', 'Hello'. Delegate to it for these. \n",
    "                2. 'farewell_agent': Handles simple farewells like 'Bye', 'See you'. Delegate to it for these. \n",
    "                3. 'math_agent': Handles basic arithmetic like addition, subtraction, multiplication, division. Delegate to it for these.\n",
    "\n",
    "                Analyze the user's query. If it's a greeting, delegate to 'greeting_agent'. \n",
    "                If it's a farewell, delegate to 'farewell_agent'. \n",
    "                If it's a math question, delegate to 'math_agent'.\n",
    "\n",
    "                For anything else, respond appropriately or state you cannot handle it.\n",
    "                \"\"\",\n",
    "    tools=[],\n",
    "    sub_agents=[\n",
    "        greeting_subagent,\n",
    "        farewell_subagent,\n",
    "        math_subagent\n",
    "    ]\n",
    ")\n",
    "print(f\"✅ Root Agent '{root_agent.name}' created with sub-agents: {[agent.name for agent in root_agent.sub_agents]}.\")"
   ]
  },
  {
   "cell_type": "code",
   "execution_count": 15,
   "id": "786a9ac3",
   "metadata": {},
   "outputs": [
    {
     "name": "stdout",
     "output_type": "stream",
     "text": [
      "Runner for agent 'friendly_agent_team_v1' initialized.\n",
      "User ID: The main coordinator agent. Delegates greetings/farewells to specialists.\n",
      "Input Schema: None\n",
      "Tools: []\n",
      "Model: model='openai/gpt-4o' llm_client=<google.adk.models.lite_llm.LiteLLMClient object at 0x77619fd73490>\n",
      "Model Config: {'arbitrary_types_allowed': True, 'extra': 'forbid'}\n",
      "Schema: <bound method BaseModel.schema of <class 'google.adk.agents.llm_agent.LlmAgent'>>\n",
      "Parent Agent: None\n",
      "Agent Instruction: You are the main Agent coordinating a team. Your primary responsibility is to be friendly.\n",
      "\n",
      "                You have specialized sub-agents: \n",
      "                1. 'greeting_agent': Handles simple greetings like 'Hi', 'Hello'. Delegate to it for these. \n",
      "                2. 'farewell_agent': Handles simple farewells like 'Bye', 'See you'. Delegate to it for these. \n",
      "                3. 'math_agent': Handles basic arithmetic like addition, subtraction, multiplication, division. Delegate to it for these.\n",
      "\n",
      "                Analyze the user's query. If it's a greeting, delegate to 'greeting_agent'. \n",
      "                If it's a farewell, delegate to 'farewell_agent'. \n",
      "                If it's a math question, delegate to 'math_agent'.\n",
      "\n",
      "                For anything else, respond appropriately or state you cannot handle it.\n",
      "                \n",
      "Sub Agents:\n",
      "  - Name: greeting_subagent_v1\n",
      "    Description: Handles simple greetings and hellos using the 'say_hello' tool.\n",
      "    Tools: ['say_hello']\n",
      "    Instruction: You are the Greeting Agent. Your ONLY task is to provide a friendly greeting to ...\n",
      "\n",
      "  - Name: farewell_subagent_v1\n",
      "    Description: Handles simple farewells and goodbyes using the 'say_goodbye' tool.\n",
      "    Tools: ['say_goodbye']\n",
      "    Instruction: You are the Farewell Agent. Your ONLY task is to provide a polite goodbye messag...\n",
      "\n",
      "  - Name: math_subagent_v1\n",
      "    Description: Handles simple arithmetic operations using the 'calculator' tool.\n",
      "    Tools: ['add', 'subtract', 'multiply', 'divide']\n",
      "    Instruction: You are the Math Agent. Your ONLY task is to perform basic arithmetic operations...\n",
      "\n"
     ]
    }
   ],
   "source": [
    "from helper import make_agent_caller\n",
    "\n",
    "root_agent_caller = await make_agent_caller(root_agent)\n",
    "\n",
    "print(f\"Runner for agent '{root_agent_caller.agent.name}' initialized.\")\n",
    "print(f\"User ID: {root_agent_caller.agent.description}\")\n",
    "print(f\"Input Schema: {root_agent_caller.agent.input_schema}\")\n",
    "print(f\"Tools: {root_agent_caller.agent.tools}\")\n",
    "print(f\"Model: {root_agent_caller.agent.model}\")\n",
    "print(f\"Model Config: {root_agent_caller.agent.model_config}\")\n",
    "print(f\"Schema: {root_agent_caller.agent.schema}\")\n",
    "print(f\"Parent Agent: {root_agent_caller.agent.parent_agent}\")\n",
    "print(f\"Agent Instruction: {root_agent_caller.agent.instruction}\")\n",
    "print(\"Sub Agents:\")\n",
    "for agent in root_agent_caller.agent.sub_agents:\n",
    "    print(f\"  - Name: {agent.name}\")\n",
    "    print(f\"    Description: {agent.description}\")\n",
    "    print(f\"    Tools: {[tool.__name__ for tool in agent.tools]}\")\n",
    "    print(f\"    Instruction: {agent.instruction[:80]}{'...' if len(agent.instruction) > 80 else ''}\")\n",
    "    print()"
   ]
  },
  {
   "cell_type": "code",
   "execution_count": 16,
   "id": "6f26bdaa",
   "metadata": {},
   "outputs": [
    {
     "name": "stdout",
     "output_type": "stream",
     "text": [
      "\n",
      ">>> User Query: Hello I'm Amrith\n",
      "<<< Agent Response: Hello to you, Amrith!\n",
      "\n",
      ">>> User Query: What is 5 + 3 * 10?\n",
      "<<< Agent Response: The result of \\(5 + 3 \\times 10\\) is 35.\n",
      "\n",
      ">>> User Query: Thanks, bye!\n",
      "<<< Agent Response: Goodbye from Cypher!\n"
     ]
    }
   ],
   "source": [
    "async def run_team_conversation():\n",
    "    await root_agent_caller.call(\"Hello I'm Amrith\")\n",
    "\n",
    "    await root_agent_caller.call(\"What is 5 + 3 * 10?\")\n",
    "\n",
    "    await root_agent_caller.call(\"Thanks, bye!\")\n",
    "\n",
    "await run_team_conversation()"
   ]
  },
  {
   "cell_type": "code",
   "execution_count": 17,
   "id": "630d3557",
   "metadata": {},
   "outputs": [],
   "source": [
    "def say_hello_stateful(user_name:str, tool_context:ToolContext):\n",
    "    \"\"\"Says hello to the user, recording their name into state.\n",
    "    \n",
    "    Args:\n",
    "        user_name (str): The name of the user.\n",
    "    \"\"\"\n",
    "    tool_context.state[\"user_name\"] = user_name\n",
    "    print(\"\\ntool_context.state['user_name']:\", tool_context.state[\"user_name\"])\n",
    "    return graphdb.send_query(\n",
    "        f\"RETURN 'Hello to you, ' + $user_name + '.' AS reply\",\n",
    "    {\n",
    "        \"user_name\": user_name\n",
    "    })"
   ]
  },
  {
   "cell_type": "code",
   "execution_count": 18,
   "id": "16c4fdb6",
   "metadata": {},
   "outputs": [],
   "source": [
    "def say_goodbye_stateful(tool_context: ToolContext, dummy: str) -> dict:\n",
    "    \"\"\"Says goodbye to the user, reading their name from state.\"\"\"\n",
    "    user_name = tool_context.state.get(\"user_name\", \"stranger\")\n",
    "    print(\"\\ntool_context.state['user_name']:\", user_name)\n",
    "    return graphdb.send_query(\"RETURN 'Goodbye, ' + $user_name + ', nice to chat with you!' AS reply\",\n",
    "    {\n",
    "        \"user_name\": user_name\n",
    "    })"
   ]
  },
  {
   "cell_type": "code",
   "execution_count": 19,
   "id": "112992a4",
   "metadata": {},
   "outputs": [],
   "source": [
    "def add_calc_stateful(a: int, b: int, tool_context: ToolContext) -> dict:\n",
    "    \"\"\"Adds two numbers and stores the result in state.\"\"\"\n",
    "    result = a + b\n",
    "    tool_context.state[\"calc_result\"] = result\n",
    "    print(\"\\ntool_context.state['calc_result']:\", tool_context.state[\"calc_result\"])\n",
    "    return graphdb.send_query(\n",
    "        f\"RETURN 'The sum of ' + $a + ' and ' + $b + ' is ' + $result AS reply\",\n",
    "        {\n",
    "            \"a\": a,\n",
    "            \"b\": b,\n",
    "            \"result\": result\n",
    "        }\n",
    "    )\n",
    "\n",
    "def subtract_calc_stateful(a: int, b: int, tool_context: ToolContext) -> dict:\n",
    "    \"\"\"Subtracts two numbers and stores the result in state.\"\"\"\n",
    "    result = a - b\n",
    "    tool_context.state[\"calc_result\"] = result\n",
    "    print(\"\\ntool_context.state['calc_result']:\", tool_context.state[\"calc_result\"])\n",
    "    return graphdb.send_query(\n",
    "        f\"RETURN 'The difference of ' + $a + ' and ' + $b + ' is ' + $result AS reply\",\n",
    "        {\n",
    "            \"a\": a,\n",
    "            \"b\": b,\n",
    "            \"result\": result\n",
    "        }\n",
    "    )\n",
    "    \n",
    "def multiply_calc_stateful(a: int, b: int, tool_context: ToolContext) -> dict:\n",
    "    \"\"\"Multiplies two numbers and stores the result in state.\"\"\"\n",
    "    result = a * b\n",
    "    tool_context.state[\"calc_result\"] = result\n",
    "    print(\"\\ntool_context.state['calc_result']:\", tool_context.state[\"calc_result\"])\n",
    "    return graphdb.send_query(\n",
    "        f\"RETURN 'The product of ' + $a + ' and ' + $b + ' is ' + $result AS reply\",\n",
    "        {\n",
    "            \"a\": a,\n",
    "            \"b\": b,\n",
    "            \"result\": result\n",
    "        }\n",
    "    )\n",
    "\n",
    "def divide_calc_stateful(a: int, b: int, tool_context: ToolContext) -> dict:\n",
    "    \"\"\"Divides two numbers and stores the result in state.\"\"\"\n",
    "    if b == 0:\n",
    "        return {\"reply\": \"Division by zero error.\"}\n",
    "    result = a / b\n",
    "    tool_context.state[\"calc_result\"] = result\n",
    "    print(\"\\ntool_context.state['calc_result']:\", tool_context.state[\"calc_result\"])\n",
    "    return graphdb.send_query(\n",
    "        f\"RETURN 'The division of ' + $a + ' by ' + $b + ' is ' + $result AS reply\",\n",
    "        {\n",
    "            \"a\": a,\n",
    "            \"b\": b,\n",
    "            \"result\": result\n",
    "        }\n",
    "    )\n"
   ]
  },
  {
   "cell_type": "code",
   "execution_count": 20,
   "id": "514286fc",
   "metadata": {},
   "outputs": [
    {
     "name": "stdout",
     "output_type": "stream",
     "text": [
      "✅ State-aware 'say_hello_stateful' and 'say_goodbye_stateful' tools defined, along with basic math tools.\n"
     ]
    }
   ],
   "source": [
    "print(\"✅ State-aware 'say_hello_stateful' and 'say_goodbye_stateful' tools defined, along with basic math tools.\")"
   ]
  },
  {
   "cell_type": "code",
   "execution_count": 21,
   "id": "6afcc382",
   "metadata": {},
   "outputs": [
    {
     "name": "stdout",
     "output_type": "stream",
     "text": [
      "✅ Agent 'greeting_agent_stateful_v1' redefined.\n",
      "✅ Agent 'farewell_agent_stateful_v1' redefined.\n",
      "✅ Agent 'math_agent_stateful_v1' redefined.\n"
     ]
    }
   ],
   "source": [
    "# define a stateful greeting agent. the only difference is that this agent will use the stateful say_hello_stateful tool\n",
    "greeting_agent_stateful = Agent(\n",
    "    model=llm,\n",
    "    name=\"greeting_agent_stateful_v1\",\n",
    "    instruction=\"You are the Greeting Agent. Your ONLY task is to provide a friendly greeting using the 'say_hello' tool. Do nothing else.\",\n",
    "    description=\"Handles simple greetings and hellos using the 'say_hello_stateful' tool.\",\n",
    "    tools=[say_hello_stateful],\n",
    ")\n",
    "print(f\"✅ Agent '{greeting_agent_stateful.name}' redefined.\")\n",
    "\n",
    "farewell_agent_stateful = Agent(\n",
    "    model=llm,\n",
    "    name=\"farewell_agent_stateful_v1\",\n",
    "    instruction=\"You are the Farewell Agent. Your ONLY task is to provide a polite goodbye message using the 'say_goodbye_stateful' tool. Do not perform any other actions.\",\n",
    "    description=\"Handles simple farewells and goodbyes using the 'say_goodbye_stateful' tool.\",\n",
    "    tools=[say_goodbye_stateful],\n",
    ")\n",
    "print(f\"✅ Agent '{farewell_agent_stateful.name}' redefined.\")\n",
    "\n",
    "math_agent_stateful = Agent(\n",
    "    model=llm,\n",
    "    name=\"math_agent_stateful_v1\",\n",
    "    instruction=\"You are the Math Agent. Your ONLY task is to perform basic arithmetic operations using the stateful math tools. Do nothing else.\",\n",
    "    description=\"Handles basic math operations using stateful tools.\",\n",
    "    tools=[\n",
    "        add_calc_stateful,\n",
    "        subtract_calc_stateful,\n",
    "        multiply_calc_stateful,\n",
    "        divide_calc_stateful\n",
    "    ],\n",
    ")\n",
    "print(f\"✅ Agent '{math_agent_stateful.name}' redefined.\")\n"
   ]
  },
  {
   "cell_type": "code",
   "execution_count": 22,
   "id": "b22e7b32",
   "metadata": {},
   "outputs": [
    {
     "name": "stdout",
     "output_type": "stream",
     "text": [
      "✅ Root Agent 'friendly_team_stateful' created using agents with stateful tools.\n"
     ]
    }
   ],
   "source": [
    "root_agent_stateful = Agent(\n",
    "    name=\"friendly_team_stateful\",\n",
    "    model=llm,\n",
    "    description=\"The main coordinator agent. Delegates greetings/farewells to specialists.\",\n",
    "    instruction=\"\"\"You are the main Agent coordinating a team. Your primary responsibility is to be friendly.\n",
    "\n",
    "                You have specialized sub-agents: \n",
    "                1. 'greeting_agent_stateful': Handles simple greetings like 'Hi', 'Hello'. Delegate to it for these. \n",
    "                2. 'farewell_agent_stateful': Handles simple farewells like 'Bye', 'See you'. Delegate to it for these. \n",
    "                3. 'math_agent_stateful' : Handles basic arithmetic like addition, subtraction, multiplication, division. Delegate to it for these.\n",
    "\n",
    "                Analyze the user's query. If it's a greeting, delegate to 'greeting_agent'. \n",
    "                If it's a farewell, delegate to 'farewell_agent'. \n",
    "                If it's a math question, delegate to 'math_agent'.\n",
    "\n",
    "                For anything else, respond appropriately or state you cannot handle it.\n",
    "                \"\"\",\n",
    "        tools=[],\n",
    "        sub_agents=[greeting_agent_stateful, farewell_agent_stateful, math_agent_stateful], \n",
    "    )\n",
    "\n",
    "print(f\"✅ Root Agent '{root_agent_stateful.name}' created using agents with stateful tools.\")\n"
   ]
  },
  {
   "cell_type": "code",
   "execution_count": 23,
   "id": "a673380f",
   "metadata": {},
   "outputs": [
    {
     "name": "stdout",
     "output_type": "stream",
     "text": [
      "Initial State: {}\n",
      "Runner for agent 'friendly_team_stateful' initialized.\n",
      "User ID: The main coordinator agent. Delegates greetings/farewells to specialists.\n",
      "Input Schema: None\n",
      "Tools: []\n",
      "Model: model='openai/gpt-4o' llm_client=<google.adk.models.lite_llm.LiteLLMClient object at 0x77619fd73490>\n",
      "Model Config: {'arbitrary_types_allowed': True, 'extra': 'forbid'}\n",
      "Schema: <bound method BaseModel.schema of <class 'google.adk.agents.llm_agent.LlmAgent'>>\n",
      "Parent Agent: None\n",
      "Agent Instruction: You are the main Agent coordinating a team. Your primary responsibility is to be friendly.\n",
      "\n",
      "                You have specialized sub-agents: \n",
      "                1. 'greeting_agent_stateful': Handles simple greetings like 'Hi', 'Hello'. Delegate to it for these. \n",
      "                2. 'farewell_agent_stateful': Handles simple farewells like 'Bye', 'See you'. Delegate to it for these. \n",
      "                3. 'math_agent_stateful' : Handles basic arithmetic like addition, subtraction, multiplication, division. Delegate to it for these.\n",
      "\n",
      "                Analyze the user's query. If it's a greeting, delegate to 'greeting_agent'. \n",
      "                If it's a farewell, delegate to 'farewell_agent'. \n",
      "                If it's a math question, delegate to 'math_agent'.\n",
      "\n",
      "                For anything else, respond appropriately or state you cannot handle it.\n",
      "                \n",
      "Sub Agents:\n",
      "  - Name: greeting_agent_stateful_v1\n",
      "    Description: Handles simple greetings and hellos using the 'say_hello_stateful' tool.\n",
      "    Tools: ['say_hello_stateful']\n",
      "    Instruction: You are the Greeting Agent. Your ONLY task is to provide a friendly greeting usi...\n",
      "\n",
      "  - Name: farewell_agent_stateful_v1\n",
      "    Description: Handles simple farewells and goodbyes using the 'say_goodbye_stateful' tool.\n",
      "    Tools: ['say_goodbye_stateful']\n",
      "    Instruction: You are the Farewell Agent. Your ONLY task is to provide a polite goodbye messag...\n",
      "\n",
      "  - Name: math_agent_stateful_v1\n",
      "    Description: Handles basic math operations using stateful tools.\n",
      "    Tools: ['add_calc_stateful', 'subtract_calc_stateful', 'multiply_calc_stateful', 'divide_calc_stateful']\n",
      "    Instruction: You are the Math Agent. Your ONLY task is to perform basic arithmetic operations...\n",
      "\n"
     ]
    }
   ],
   "source": [
    "from helper import make_agent_caller\n",
    "\n",
    "root_stateful_caller = await make_agent_caller(root_agent_stateful)\n",
    "\n",
    "session = await root_stateful_caller.get_session()\n",
    "print(f\"Initial State: {session.state}\")\n",
    "\n",
    "print(f\"Runner for agent '{root_stateful_caller.agent.name}' initialized.\")\n",
    "print(f\"User ID: {root_stateful_caller.agent.description}\")\n",
    "print(f\"Input Schema: {root_stateful_caller.agent.input_schema}\")\n",
    "print(f\"Tools: {root_stateful_caller.agent.tools}\")\n",
    "print(f\"Model: {root_stateful_caller.agent.model}\")\n",
    "print(f\"Model Config: {root_stateful_caller.agent.model_config}\")\n",
    "print(f\"Schema: {root_stateful_caller.agent.schema}\")\n",
    "print(f\"Parent Agent: {root_stateful_caller.agent.parent_agent}\")\n",
    "print(f\"Agent Instruction: {root_stateful_caller.agent.instruction}\")\n",
    "print(\"Sub Agents:\")\n",
    "for agent in root_stateful_caller.agent.sub_agents:\n",
    "    print(f\"  - Name: {agent.name}\")\n",
    "    print(f\"    Description: {agent.description}\")\n",
    "    print(f\"    Tools: {[tool.__name__ for tool in agent.tools]}\")\n",
    "    print(f\"    Instruction: {agent.instruction[:80]}{'...' if len(agent.instruction) > 80 else ''}\")\n",
    "    print()"
   ]
  },
  {
   "cell_type": "code",
   "execution_count": 24,
   "id": "13c31cf5",
   "metadata": {},
   "outputs": [
    {
     "name": "stdout",
     "output_type": "stream",
     "text": [
      "\n",
      ">>> User Query: Hello, I'm ABK!\n",
      "\n",
      "tool_context.state['user_name']: ABK\n",
      "<<< Agent Response: Hello to you, ABK.\n",
      "\n",
      ">>> User Query: What is 5 + 3?\n",
      "\n",
      "tool_context.state['calc_result']: 8\n",
      "<<< Agent Response: The sum of 5 and 3 is 8.\n",
      "\n",
      ">>> User Query: Thanks, bye!\n",
      "\n",
      "tool_context.state['user_name']: ABK\n",
      "<<< Agent Response: Goodbye, ABK, nice to chat with you!\n",
      "\n",
      "Final State: {'user_name': 'ABK', 'calc_result': 8}\n"
     ]
    }
   ],
   "source": [
    "async def run_stateful_conversation():\n",
    "    await root_stateful_caller.call(\"Hello, I'm ABK!\")\n",
    "    await root_stateful_caller.call(\"What is 5 + 3?\")\n",
    "    await root_stateful_caller.call(\"Thanks, bye!\")\n",
    "\n",
    "await run_stateful_conversation()\n",
    "\n",
    "session = await root_stateful_caller.get_session()\n",
    "\n",
    "print(f\"\\nFinal State: {session.state}\")"
   ]
  },
  {
   "cell_type": "code",
   "execution_count": 25,
   "id": "16effbce",
   "metadata": {},
   "outputs": [
    {
     "name": "stdout",
     "output_type": "stream",
     "text": [
      "\n",
      ">>> User Query: hello\n",
      "\n",
      "tool_context.state['user_name']: ABK\n",
      "<<< Agent Response: Hello to you, ABK.\n",
      "Response: Hello to you, ABK.\n",
      "\n",
      ">>> User Query: How are you?\n",
      "<<< Agent Response: I'm just a virtual presence, but I'm here to help you with anything you need. How can I assist you today?\n",
      "Response: I'm just a virtual presence, but I'm here to help you with anything you need. How can I assist you today?\n",
      "\n",
      ">>> User Query: help me solve (4+12-8*4)^2\n",
      "\n",
      "tool_context.state['calc_result']: 16\n",
      "\n",
      "tool_context.state['calc_result']: 32\n",
      "\n",
      "tool_context.state['calc_result']: -16\n",
      "\n",
      "tool_context.state['calc_result']: 256\n",
      "<<< Agent Response: The result of \\((4 + 12 - 8 \\times 4)^2\\) is 256.\n",
      "Response: The result of \\((4 + 12 - 8 \\times 4)^2\\) is 256.\n",
      "\n",
      ">>> User Query: byee AI\n",
      "\n",
      "tool_context.state['user_name']: ABK\n",
      "<<< Agent Response: Goodbye, ABK, nice to chat with you!\n",
      "Response: Goodbye, ABK, nice to chat with you!\n",
      "\n",
      ">>> User Query: quit\n",
      "\n",
      "tool_context.state['user_name']: ABK\n",
      "<<< Agent Response: Goodbye, ABK, nice to chat with you!\n",
      "Response: Goodbye, ABK, nice to chat with you!\n"
     ]
    }
   ],
   "source": [
    "async def run_interactive_conversation():\n",
    "    while True:\n",
    "        user_query = input(\"Ask me something (or type 'exit' to quit): \")\n",
    "        if user_query.lower() == 'exit':\n",
    "            break\n",
    "        response = await root_stateful_caller.call(user_query)\n",
    "        print(f\"Response: {response}\")\n",
    "\n",
    "await run_interactive_conversation()"
   ]
  }
 ],
 "metadata": {
  "kernelspec": {
   "display_name": "agentic-graph-rag",
   "language": "python",
   "name": "python3"
  },
  "language_info": {
   "codemirror_mode": {
    "name": "ipython",
    "version": 3
   },
   "file_extension": ".py",
   "mimetype": "text/x-python",
   "name": "python",
   "nbconvert_exporter": "python",
   "pygments_lexer": "ipython3",
   "version": "3.11.13"
  }
 },
 "nbformat": 4,
 "nbformat_minor": 5
}
